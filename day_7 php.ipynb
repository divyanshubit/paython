{
 "cells": [
  {
   "cell_type": "code",
   "execution_count": 1,
   "metadata": {},
   "outputs": [
    {
     "name": "stdout",
     "output_type": "stream",
     "text": [
      "12  * 1  = 12\n",
      "12  * 2  = 24\n",
      "12  * 3  = 36\n",
      "12  * 4  = 48\n",
      "12  * 5  = 60\n",
      "12  * 6  = 72\n",
      "12  * 7  = 84\n",
      "12  * 8  = 96\n",
      "12  * 9  = 108\n",
      "12  * 10  = 120\n"
     ]
    }
   ],
   "source": [
    "y = int(input(\"enter number\"))\n",
    "for i in range(1,11):            \n",
    "   print(f\"{y}  * {i}  = {y*i }\"  )"
   ]
  },
  {
   "cell_type": "markdown",
   "metadata": {},
   "source": [
    "# While loop"
   ]
  },
  {
   "cell_type": "code",
   "execution_count": 11,
   "metadata": {},
   "outputs": [
    {
     "name": "stdout",
     "output_type": "stream",
     "text": [
      "1\n",
      "2\n",
      "3\n",
      "4\n",
      "5\n",
      "6\n",
      "7\n",
      "8\n",
      "9\n",
      "10\n"
     ]
    }
   ],
   "source": [
    "i = 1\n",
    "while i<=10:\n",
    "    print(i)\n",
    "    i +=1\n"
   ]
  },
  {
   "cell_type": "code",
   "execution_count": 15,
   "metadata": {},
   "outputs": [
    {
     "name": "stdout",
     "output_type": "stream",
     "text": [
      "5 7 10 14 15 20 21 25 28 30 35 40 42 45 49 50 "
     ]
    }
   ],
   "source": [
    "#while loop on multiple condn\n",
    "i=1  \n",
    "while i<51:     \n",
    "    if i%5 == 0 or i%7==0 :  \n",
    "        print(i ,end=\" \")  \n",
    "    i+=1  "
   ]
  },
  {
   "cell_type": "code",
   "execution_count": null,
   "metadata": {},
   "outputs": [],
   "source": [
    "lst = [3,4,7,8,2]\n",
    "lst2 = []\n"
   ]
  },
  {
   "cell_type": "code",
   "execution_count": 12,
   "metadata": {},
   "outputs": [
    {
     "name": "stdout",
     "output_type": "stream",
     "text": [
      "It is an odd number\n",
      "It is an even number\n",
      "It is an even number\n",
      "It is an even number\n",
      "It is an even number\n",
      "It is an odd number\n",
      "It is an odd number\n",
      "It is an even number\n"
     ]
    }
   ],
   "source": [
    "list_ = [3, 4, 8, 10, 34, 45, 67,80]      \n",
    "index = 0  \n",
    "while index < len(list_):  \n",
    "    element = list_[index]  \n",
    "    if element % 2 == 0:  \n",
    "        print('It is an even number')      \n",
    "    else:  \n",
    "        print('It is an odd number')         \n",
    "    index += 1  "
   ]
  },
  {
   "cell_type": "code",
   "execution_count": 22,
   "metadata": {},
   "outputs": [
    {
     "name": "stdout",
     "output_type": "stream",
     "text": [
      "5\n",
      "3\n",
      "4\n",
      "2\n"
     ]
    },
    {
     "data": {
      "text/plain": [
       "4"
      ]
     },
     "execution_count": 22,
     "metadata": {},
     "output_type": "execute_result"
    }
   ],
   "source": [
    "lst = ['apple',\"cow\",\"tree\",\"to\"]\n",
    "index = 0\n",
    "while index < len(lst):\n",
    "    element = lst[index]\n",
    "    print(len(element))\n",
    "    index+=1\n",
    "\n",
    "\n",
    "\n",
    "len(lst)"
   ]
  },
  {
   "cell_type": "markdown",
   "metadata": {},
   "source": [
    "# functions\n",
    "2 types of function :\n",
    "\n",
    "  1- built in\n",
    "  \n",
    "  2- user defined\n",
    "  "
   ]
  },
  {
   "cell_type": "code",
   "execution_count": 17,
   "metadata": {},
   "outputs": [
    {
     "name": "stdout",
     "output_type": "stream",
     "text": [
      "hello from function\n"
     ]
    }
   ],
   "source": [
    "def hello():\n",
    "    print(\"hello from function\")\n",
    "\n",
    "\n",
    "\n",
    "hello()                                #--> calling a function"
   ]
  },
  {
   "cell_type": "code",
   "execution_count": 24,
   "metadata": {},
   "outputs": [
    {
     "name": "stdout",
     "output_type": "stream",
     "text": [
      "mohan sharma\n"
     ]
    }
   ],
   "source": [
    "def name(fname):\n",
    "    print(fname + \" sharma\")\n",
    "\n",
    "\n",
    "\n",
    "name('mohan')"
   ]
  },
  {
   "cell_type": "code",
   "execution_count": 25,
   "metadata": {},
   "outputs": [],
   "source": [
    "def add():\n",
    "    num1 = 10\n",
    "    num2 = 30\n",
    "    result = num1 + num2\n",
    "    print(result)\n"
   ]
  },
  {
   "cell_type": "code",
   "execution_count": 28,
   "metadata": {},
   "outputs": [
    {
     "name": "stdout",
     "output_type": "stream",
     "text": [
      "40\n"
     ]
    }
   ],
   "source": [
    "add()"
   ]
  },
  {
   "cell_type": "code",
   "execution_count": 34,
   "metadata": {},
   "outputs": [],
   "source": [
    "### number of arguments:\n",
    "def addd(num1,num2,num3):\n",
    "    result = num1 + num2 + num3\n",
    "    print(result)"
   ]
  },
  {
   "cell_type": "code",
   "execution_count": 35,
   "metadata": {},
   "outputs": [
    {
     "name": "stdout",
     "output_type": "stream",
     "text": [
      "956859\n"
     ]
    }
   ],
   "source": [
    "addd(956789,50,20)"
   ]
  },
  {
   "cell_type": "code",
   "execution_count": 36,
   "metadata": {},
   "outputs": [],
   "source": [
    "### arbitary arguments\n",
    "def childens(*kids):\n",
    "    print(\"the youngest child is \" + kids[2])"
   ]
  },
  {
   "cell_type": "code",
   "execution_count": 38,
   "metadata": {},
   "outputs": [
    {
     "name": "stdout",
     "output_type": "stream",
     "text": [
      "the youngest child is shyam\n"
     ]
    }
   ],
   "source": [
    "childens(\"RAM\",\"Mohan\",\"shyam\",\"rohit\")"
   ]
  },
  {
   "cell_type": "code",
   "execution_count": 40,
   "metadata": {},
   "outputs": [
    {
     "name": "stdout",
     "output_type": "stream",
     "text": [
      "the youngest child is Mohan\n"
     ]
    }
   ],
   "source": [
    "## keyword arguments\n",
    "def my_function(child1,child2, child3):\n",
    "    print(\"the youngest child is \" + child3)\n",
    "\n",
    "\n",
    "my_function(child3=\"Mohan\",child2 = \"rohan\",child1 = \"Rohit\")\n"
   ]
  },
  {
   "cell_type": "code",
   "execution_count": 42,
   "metadata": {},
   "outputs": [
    {
     "name": "stdout",
     "output_type": "stream",
     "text": [
      "I am from sweden\n",
      "I am from India\n",
      "I am from norway\n"
     ]
    }
   ],
   "source": [
    "### default parameter value\n",
    "def country(name = \"norway\"):\n",
    "    print(\"I am from \" + name)\n",
    "\n",
    "\n",
    "country(\"sweden\")\n",
    "country(\"India\")\n",
    "country()\n"
   ]
  },
  {
   "cell_type": "code",
   "execution_count": null,
   "metadata": {},
   "outputs": [],
   "source": []
  }
 ],
 "metadata": {
  "kernelspec": {
   "display_name": "Python 3",
   "language": "python",
   "name": "python3"
  },
  "language_info": {
   "codemirror_mode": {
    "name": "ipython",
    "version": 3
   },
   "file_extension": ".py",
   "mimetype": "text/x-python",
   "name": "python",
   "nbconvert_exporter": "python",
   "pygments_lexer": "ipython3",
   "version": "3.12.4"
  }
 },
 "nbformat": 4,
 "nbformat_minor": 2
}
